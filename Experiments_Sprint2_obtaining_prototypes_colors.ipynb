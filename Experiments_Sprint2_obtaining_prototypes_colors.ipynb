{
 "cells": [
  {
   "cell_type": "markdown",
   "metadata": {
    "id": "nz6GlgG2lCij"
   },
   "source": [
    "## Setup"
   ]
  },
  {
   "cell_type": "code",
   "execution_count": null,
   "metadata": {
    "id": "N5GcqmO-lCip"
   },
   "outputs": [],
   "source": [
    "import torchvision.transforms as tfs\n",
    "from src.models.utils import download_checkpoint, load_model\n",
    "from src.experiments import *\n",
    "from src.experiments.utils import *\n",
    "from src.visualization import *\n",
    "from src.optimization import *\n",
    "from IPython.display import Image \n",
    "from PIL import Image\n",
    "from src.optimization.optimizers import NormalizedOptimizer"
   ]
  },
  {
   "cell_type": "code",
   "execution_count": null,
   "metadata": {},
   "outputs": [],
   "source": [
    "device = torch.device(\"cuda\" if torch.cuda.is_available() else \"cpu\")"
   ]
  },
  {
   "cell_type": "code",
   "execution_count": null,
   "metadata": {},
   "outputs": [],
   "source": [
    "checkpoint_path = download_checkpoint(\"https://drive.google.com/file/d/19m_SaRNEF7JXHjeyNu26AxgaEQXqpI00\", \"protopnet.pt\")\n",
    "\n",
    "model = load_model('protopnet', checkpoint_path, device=device)\n",
    "img_size = 224"
   ]
  },
  {
   "cell_type": "code",
   "execution_count": null,
   "metadata": {},
   "outputs": [],
   "source": [
    "ptypes = [(188,1)]\n",
    "\n",
    "size = (3, 224, 224)\n",
    "normalize = tfs.Normalize(mean=(0.485, 0.456, 0.406), \n",
    "                          std=(0.229, 0.224, 0.225))\n",
    "transform = tfs.Compose([\n",
    "    tfs.Resize(size=(img_size, img_size)),\n",
    "    tfs.ToTensor(),\n",
    "    normalize]\n",
    "    )\n",
    "invTrans = tfs.Compose([\n",
    "    tfs.Normalize(mean=[ 0., 0., 0. ], \n",
    "                  std=[ 1/0.229, 1/0.224, 1/0.225 ]),\n",
    "    tfs.Normalize(mean=[ -0.485, -0.456, -0.406 ],\n",
    "                 std=[ 1., 1., 1. ]),\n",
    "    ])\n",
    "\n",
    "def before_optim_step(t):\n",
    "    tt = torch.clamp(t, 0, 1)\n",
    "    t.data = tfs.GaussianBlur(7, 2)(t).data"
   ]
  },
  {
   "cell_type": "markdown",
   "metadata": {},
   "source": [
    "## Testing aggregation methods\n",
    "Mean of similarities with exponent=1 seems to be the best. Red head seems to appear in other places than just initial bird-head. Overall, differences are not very significant."
   ]
  },
  {
   "cell_type": "code",
   "execution_count": null,
   "metadata": {},
   "outputs": [],
   "source": [
    "input_image = Image.open(\"data/train_cropped/189.Red_bellied_Woodpecker/Red_Bellied_Woodpecker_0002_180879.jpg\")\n",
    "display(input_image)"
   ]
  },
  {
   "cell_type": "code",
   "execution_count": null,
   "metadata": {
    "colab": {
     "base_uri": "https://localhost:8080/",
     "height": 555
    },
    "id": "ZrvmOTWGgbGz",
    "outputId": "b5d78dab-c810-4882-e559-22e4eef3efa7",
    "scrolled": true
   },
   "outputs": [],
   "source": [
    "input_tensor = transform(input_image)\n",
    "for metric in [\"distance\", \"similarity\"]:\n",
    "    for agg_fn in [\"mean\", \"mean_log\"]:\n",
    "        for exponent in [1., 2.]:\n",
    "            print(f\"metric: {metric} | agg_fn: {agg_fn} | exponent: {exponent}\")\n",
    "            loss_agg_fn = AggregationFn(metric=metric, agg_fn=agg_fn, exponent=exponent).to(device)\n",
    "            image = visualize_prototypes(model, ptypes, loss_agg_fn=loss_agg_fn, optimization_steps=100, input_tensor=input_tensor,\n",
    "                             before_optim_step=before_optim_step, optimizer_kwargs={'lr': 0.2})\n",
    "            image = invTrans(image)\n",
    "            pilimg = tfs.ToPILImage()(image)\n",
    "            display(pilimg)\n"
   ]
  },
  {
   "cell_type": "code",
   "execution_count": null,
   "metadata": {},
   "outputs": [],
   "source": [
    "loss_agg_fn = AggregationFn(metric=\"similarity\").to(device)"
   ]
  },
  {
   "cell_type": "code",
   "execution_count": null,
   "metadata": {},
   "outputs": [],
   "source": [
    "def vis_box_get_names(bird):\n",
    "    crop_images(bird) \n",
    "    directory = f\"data/train_cropped/{bird}\"\n",
    "    count = 0\n",
    "    names = []\n",
    "    p_num = int(bird.split(\".\")[0])-1\n",
    "    for file in os.listdir(directory):\n",
    "            filename = os.fsdecode(file)\n",
    "            if filename.endswith(\".jpg\"):\n",
    "                name = f\"{bird}/{filename}\"\n",
    "                names += [name]\n",
    "                for i in range(10):\n",
    "                    print(f\"Bird {count} | Prototype {i}\")\n",
    "                    img = visualize_real_prototype(model, name, p_num, i)\n",
    "                    display(img)\n",
    "                count += 1\n",
    "                if count == 8: break\n",
    "    return names"
   ]
  },
  {
   "cell_type": "code",
   "execution_count": null,
   "metadata": {},
   "outputs": [],
   "source": [
    "def vis_noise(ptypes):\n",
    "    input_tensor = torch.randn(size)\n",
    "\n",
    "    image = visualize_prototypes(model, ptypes, loss_agg_fn=loss_agg_fn, optimization_steps=200, input_tensor=input_tensor,\n",
    "                                 before_optim_step=before_optim_step, optimizer_kwargs={'lr': 0.2}, print_interval=1000, display_interval=500)\n",
    "    image = invTrans(image)\n",
    "    pilimg = tfs.ToPILImage()(image)\n",
    "    display(pilimg)\n",
    "\n",
    "def vis_imgs(ptypes, names):\n",
    "    for name in names:\n",
    "        input_image = Image.open(f\"data/train_cropped/{name}\")\n",
    "        display(input_image)\n",
    "        input_tensor = transform(input_image)  \n",
    "        image = visualize_prototypes(model, ptypes, loss_agg_fn=loss_agg_fn, optimization_steps=200, input_tensor=input_tensor,\n",
    "                                     before_optim_step=before_optim_step,  optimizer_kwargs={'lr': 0.2}, print_interval=1000, display_interval=500)\n",
    "        image = invTrans(image)\n",
    "        pilimg = tfs.ToPILImage()(image)\n",
    "        display(pilimg)"
   ]
  },
  {
   "cell_type": "markdown",
   "metadata": {},
   "source": [
    "# Red bellied Woodpecker\n",
    "## Only two kinds of prototypes"
   ]
  },
  {
   "cell_type": "code",
   "execution_count": null,
   "metadata": {},
   "outputs": [],
   "source": [
    "bird = \"189.Red_bellied_Woodpecker\"\n",
    "names = vis_box_get_names(bird)"
   ]
  },
  {
   "cell_type": "markdown",
   "metadata": {},
   "source": [
    "## Red head"
   ]
  },
  {
   "cell_type": "code",
   "execution_count": null,
   "metadata": {},
   "outputs": [],
   "source": [
    "ptypes = [(188,1)] # red head\n",
    "vis_noise(ptypes)\n",
    "vis_imgs(ptypes, names)"
   ]
  },
  {
   "cell_type": "markdown",
   "metadata": {},
   "source": [
    "## Black-white feathers"
   ]
  },
  {
   "cell_type": "code",
   "execution_count": null,
   "metadata": {},
   "outputs": [],
   "source": [
    "ptypes = [(188,0)] # black-white feathers\n",
    "vis_noise(ptypes)\n",
    "vis_imgs(ptypes, names)"
   ]
  },
  {
   "cell_type": "markdown",
   "metadata": {},
   "source": [
    "# Yellow breasted Chat\n",
    "## One yellowish prototype"
   ]
  },
  {
   "cell_type": "code",
   "execution_count": null,
   "metadata": {},
   "outputs": [],
   "source": [
    "bird = \"020.Yellow_breasted_Chat\"\n",
    "names = vis_box_get_names(bird)"
   ]
  },
  {
   "cell_type": "code",
   "execution_count": null,
   "metadata": {},
   "outputs": [],
   "source": [
    "ptypes = [(19,0)]\n",
    "vis_noise(ptypes)\n",
    "vis_imgs(ptypes, names)"
   ]
  },
  {
   "cell_type": "markdown",
   "metadata": {},
   "source": [
    "## Not-so-great blueish prototypes"
   ]
  },
  {
   "cell_type": "code",
   "execution_count": null,
   "metadata": {},
   "outputs": [],
   "source": [
    "bird = \"074.Florida_Jay\"\n",
    "names = vis_box_get_names(bird)"
   ]
  },
  {
   "cell_type": "code",
   "execution_count": null,
   "metadata": {},
   "outputs": [],
   "source": [
    "ptypes = [(73,2)]\n",
    "vis_noise(ptypes)\n",
    "vis_imgs(ptypes, names)"
   ]
  }
 ],
 "metadata": {
  "colab": {
   "name": "Experiments_Pipeline.ipynb",
   "provenance": []
  },
  "kernelspec": {
   "display_name": "Python 3",
   "language": "python",
   "name": "python3"
  },
  "language_info": {
   "codemirror_mode": {
    "name": "ipython",
    "version": 3
   },
   "file_extension": ".py",
   "mimetype": "text/x-python",
   "name": "python",
   "nbconvert_exporter": "python",
   "pygments_lexer": "ipython3",
   "version": "3.7.3"
  }
 },
 "nbformat": 4,
 "nbformat_minor": 1
}
